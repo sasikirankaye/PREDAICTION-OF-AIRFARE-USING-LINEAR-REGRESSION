{
 "cells": [
  {
   "cell_type": "code",
   "execution_count": 40,
   "metadata": {},
   "outputs": [],
   "source": [
    "import numpy as np\n",
    "import pandas as pd\n",
    "import matplotlib.pyplot as plt\n",
    "import seaborn as sns\n",
    "%matplotlib inline"
   ]
  },
  {
   "cell_type": "code",
   "execution_count": 41,
   "metadata": {},
   "outputs": [
    {
     "data": {
      "text/html": [
       "<div>\n",
       "<style scoped>\n",
       "    .dataframe tbody tr th:only-of-type {\n",
       "        vertical-align: middle;\n",
       "    }\n",
       "\n",
       "    .dataframe tbody tr th {\n",
       "        vertical-align: top;\n",
       "    }\n",
       "\n",
       "    .dataframe thead th {\n",
       "        text-align: right;\n",
       "    }\n",
       "</style>\n",
       "<table border=\"1\" class=\"dataframe\">\n",
       "  <thead>\n",
       "    <tr style=\"text-align: right;\">\n",
       "      <th></th>\n",
       "      <th>Cityfrom</th>\n",
       "      <th>Cityto</th>\n",
       "      <th>Average_Fare</th>\n",
       "      <th>Distance</th>\n",
       "      <th>Average_weekly_passengers</th>\n",
       "      <th>market_leading_airline</th>\n",
       "      <th>market_share</th>\n",
       "      <th>Average_fare_lead</th>\n",
       "      <th>Low_price_airline</th>\n",
       "      <th>market_share</th>\n",
       "      <th>price</th>\n",
       "    </tr>\n",
       "  </thead>\n",
       "  <tbody>\n",
       "    <tr>\n",
       "      <td>0</td>\n",
       "      <td>CAK</td>\n",
       "      <td>ATL</td>\n",
       "      <td>114.47</td>\n",
       "      <td>528</td>\n",
       "      <td>424.56</td>\n",
       "      <td>FL</td>\n",
       "      <td>70.19</td>\n",
       "      <td>111.03</td>\n",
       "      <td>FL</td>\n",
       "      <td>70.19</td>\n",
       "      <td>111.03</td>\n",
       "    </tr>\n",
       "    <tr>\n",
       "      <td>1</td>\n",
       "      <td>CAK</td>\n",
       "      <td>MCO</td>\n",
       "      <td>122.47</td>\n",
       "      <td>860</td>\n",
       "      <td>276.84</td>\n",
       "      <td>FL</td>\n",
       "      <td>75.10</td>\n",
       "      <td>123.09</td>\n",
       "      <td>DL</td>\n",
       "      <td>17.23</td>\n",
       "      <td>118.94</td>\n",
       "    </tr>\n",
       "    <tr>\n",
       "      <td>2</td>\n",
       "      <td>ALB</td>\n",
       "      <td>ATL</td>\n",
       "      <td>214.42</td>\n",
       "      <td>852</td>\n",
       "      <td>215.76</td>\n",
       "      <td>DL</td>\n",
       "      <td>78.89</td>\n",
       "      <td>223.98</td>\n",
       "      <td>CO</td>\n",
       "      <td>2.77</td>\n",
       "      <td>167.12</td>\n",
       "    </tr>\n",
       "    <tr>\n",
       "      <td>3</td>\n",
       "      <td>ALB</td>\n",
       "      <td>BWI</td>\n",
       "      <td>69.40</td>\n",
       "      <td>288</td>\n",
       "      <td>606.84</td>\n",
       "      <td>WN</td>\n",
       "      <td>96.97</td>\n",
       "      <td>68.86</td>\n",
       "      <td>WN</td>\n",
       "      <td>96.97</td>\n",
       "      <td>68.86</td>\n",
       "    </tr>\n",
       "    <tr>\n",
       "      <td>4</td>\n",
       "      <td>ALB</td>\n",
       "      <td>ORD</td>\n",
       "      <td>158.13</td>\n",
       "      <td>723</td>\n",
       "      <td>313.04</td>\n",
       "      <td>UA</td>\n",
       "      <td>39.79</td>\n",
       "      <td>161.36</td>\n",
       "      <td>WN</td>\n",
       "      <td>15.34</td>\n",
       "      <td>145.42</td>\n",
       "    </tr>\n",
       "  </tbody>\n",
       "</table>\n",
       "</div>"
      ],
      "text/plain": [
       "  Cityfrom Cityto  Average_Fare  Distance  Average_weekly_passengers  \\\n",
       "0      CAK    ATL        114.47       528                     424.56   \n",
       "1      CAK    MCO        122.47       860                     276.84   \n",
       "2      ALB    ATL        214.42       852                     215.76   \n",
       "3      ALB    BWI         69.40       288                     606.84   \n",
       "4      ALB    ORD        158.13       723                     313.04   \n",
       "\n",
       "  market_leading_airline  market_share  Average_fare_lead Low_price_airline  \\\n",
       "0                     FL         70.19             111.03                FL   \n",
       "1                     FL         75.10             123.09                DL   \n",
       "2                     DL         78.89             223.98                CO   \n",
       "3                     WN         96.97              68.86                WN   \n",
       "4                     UA         39.79             161.36                WN   \n",
       "\n",
       "   market_share   price  \n",
       "0         70.19  111.03  \n",
       "1         17.23  118.94  \n",
       "2          2.77  167.12  \n",
       "3         96.97   68.86  \n",
       "4         15.34  145.42  "
      ]
     },
     "execution_count": 41,
     "metadata": {},
     "output_type": "execute_result"
    }
   ],
   "source": [
    "colnames=['Cityfrom','Cityto','Average_Fare','Distance','Average_weekly_passengers','market_leading_airline','market_share','Average_fare_lead','Low_price_airline','market_share','price']\n",
    "usdata=pd.read_csv('http://users.stat.ufl.edu/~winner/data/airq402.dat',header=None,sep='\\s+')\n",
    "usdata.columns=colnames\n",
    "usdata.head()"
   ]
  },
  {
   "cell_type": "code",
   "execution_count": 42,
   "metadata": {},
   "outputs": [
    {
     "name": "stdout",
     "output_type": "stream",
     "text": [
      "<class 'pandas.core.frame.DataFrame'>\n",
      "RangeIndex: 1000 entries, 0 to 999\n",
      "Data columns (total 11 columns):\n",
      "Cityfrom                     1000 non-null object\n",
      "Cityto                       1000 non-null object\n",
      "Average_Fare                 1000 non-null float64\n",
      "Distance                     1000 non-null int64\n",
      "Average_weekly_passengers    1000 non-null float64\n",
      "market_leading_airline       1000 non-null object\n",
      "market_share                 1000 non-null float64\n",
      "Average_fare_lead            1000 non-null float64\n",
      "Low_price_airline            1000 non-null object\n",
      "market_share                 1000 non-null float64\n",
      "price                        1000 non-null float64\n",
      "dtypes: float64(6), int64(1), object(4)\n",
      "memory usage: 70.4+ KB\n"
     ]
    }
   ],
   "source": [
    "usdata.info()"
   ]
  },
  {
   "cell_type": "code",
   "execution_count": 43,
   "metadata": {},
   "outputs": [
    {
     "data": {
      "text/plain": [
       "Cityfrom                     0\n",
       "Cityto                       0\n",
       "Average_Fare                 0\n",
       "Distance                     0\n",
       "Average_weekly_passengers    0\n",
       "market_leading_airline       0\n",
       "market_share                 0\n",
       "Average_fare_lead            0\n",
       "Low_price_airline            0\n",
       "market_share                 0\n",
       "price                        0\n",
       "dtype: int64"
      ]
     },
     "execution_count": 43,
     "metadata": {},
     "output_type": "execute_result"
    }
   ],
   "source": [
    "usdata.isnull().sum()"
   ]
  },
  {
   "cell_type": "code",
   "execution_count": 44,
   "metadata": {},
   "outputs": [
    {
     "data": {
      "text/html": [
       "<div>\n",
       "<style scoped>\n",
       "    .dataframe tbody tr th:only-of-type {\n",
       "        vertical-align: middle;\n",
       "    }\n",
       "\n",
       "    .dataframe tbody tr th {\n",
       "        vertical-align: top;\n",
       "    }\n",
       "\n",
       "    .dataframe thead th {\n",
       "        text-align: right;\n",
       "    }\n",
       "</style>\n",
       "<table border=\"1\" class=\"dataframe\">\n",
       "  <thead>\n",
       "    <tr style=\"text-align: right;\">\n",
       "      <th></th>\n",
       "      <th>Cityfrom</th>\n",
       "      <th>Cityto</th>\n",
       "      <th>Average_Fare</th>\n",
       "      <th>Distance</th>\n",
       "      <th>Average_weekly_passengers</th>\n",
       "      <th>market_leading_airline</th>\n",
       "      <th>market_share</th>\n",
       "      <th>Average_fare_lead</th>\n",
       "      <th>Low_price_airline</th>\n",
       "      <th>market_share</th>\n",
       "      <th>price</th>\n",
       "    </tr>\n",
       "  </thead>\n",
       "  <tbody>\n",
       "    <tr>\n",
       "      <td>0</td>\n",
       "      <td>CAK</td>\n",
       "      <td>ATL</td>\n",
       "      <td>114.47</td>\n",
       "      <td>528</td>\n",
       "      <td>424.56</td>\n",
       "      <td>FL</td>\n",
       "      <td>70.19</td>\n",
       "      <td>111.03</td>\n",
       "      <td>FL</td>\n",
       "      <td>70.19</td>\n",
       "      <td>111.03</td>\n",
       "    </tr>\n",
       "  </tbody>\n",
       "</table>\n",
       "</div>"
      ],
      "text/plain": [
       "  Cityfrom Cityto  Average_Fare  Distance  Average_weekly_passengers  \\\n",
       "0      CAK    ATL        114.47       528                     424.56   \n",
       "\n",
       "  market_leading_airline  market_share  Average_fare_lead Low_price_airline  \\\n",
       "0                     FL         70.19             111.03                FL   \n",
       "\n",
       "   market_share   price  \n",
       "0         70.19  111.03  "
      ]
     },
     "execution_count": 44,
     "metadata": {},
     "output_type": "execute_result"
    }
   ],
   "source": [
    "usdata.head(1)"
   ]
  },
  {
   "cell_type": "code",
   "execution_count": 45,
   "metadata": {},
   "outputs": [],
   "source": [
    "usdata.drop(columns=['market_leading_airline','Low_price_airline'],inplace=True)"
   ]
  },
  {
   "cell_type": "code",
   "execution_count": null,
   "metadata": {},
   "outputs": [],
   "source": []
  },
  {
   "cell_type": "code",
   "execution_count": 46,
   "metadata": {},
   "outputs": [],
   "source": [
    "usdata.drop(columns=['Cityfrom','Cityto'],inplace=True)"
   ]
  },
  {
   "cell_type": "code",
   "execution_count": 47,
   "metadata": {},
   "outputs": [
    {
     "data": {
      "text/plain": [
       "<matplotlib.axes._subplots.AxesSubplot at 0xb64c850>"
      ]
     },
     "execution_count": 47,
     "metadata": {},
     "output_type": "execute_result"
    },
    {
     "data": {
      "image/png": "[encoded data removed]",
      "text/plain": [
       "<Figure size 432x288 with 1 Axes>"
      ]
     },
     "metadata": {
      "needs_background": "light"
     },
     "output_type": "display_data"
    }
   ],
   "source": [
    "sns.boxplot(usdata['Average_Fare'])"
   ]
  },
  {
   "cell_type": "code",
   "execution_count": 48,
   "metadata": {},
   "outputs": [],
   "source": [
    "usdata_avgfare=usdata[usdata['Average_Fare']>300]"
   ]
  },
  {
   "cell_type": "code",
   "execution_count": 49,
   "metadata": {},
   "outputs": [
    {
     "data": {
      "text/html": [
       "<div>\n",
       "<style scoped>\n",
       "    .dataframe tbody tr th:only-of-type {\n",
       "        vertical-align: middle;\n",
       "    }\n",
       "\n",
       "    .dataframe tbody tr th {\n",
       "        vertical-align: top;\n",
       "    }\n",
       "\n",
       "    .dataframe thead th {\n",
       "        text-align: right;\n",
       "    }\n",
       "</style>\n",
       "<table border=\"1\" class=\"dataframe\">\n",
       "  <thead>\n",
       "    <tr style=\"text-align: right;\">\n",
       "      <th></th>\n",
       "      <th>Average_Fare</th>\n",
       "      <th>Distance</th>\n",
       "      <th>Average_weekly_passengers</th>\n",
       "      <th>market_share</th>\n",
       "      <th>Average_fare_lead</th>\n",
       "      <th>market_share</th>\n",
       "      <th>price</th>\n",
       "    </tr>\n",
       "  </thead>\n",
       "  <tbody>\n",
       "    <tr>\n",
       "      <td>0</td>\n",
       "      <td>114.47</td>\n",
       "      <td>528</td>\n",
       "      <td>424.56</td>\n",
       "      <td>70.19</td>\n",
       "      <td>111.03</td>\n",
       "      <td>70.19</td>\n",
       "      <td>111.03</td>\n",
       "    </tr>\n",
       "  </tbody>\n",
       "</table>\n",
       "</div>"
      ],
      "text/plain": [
       "   Average_Fare  Distance  Average_weekly_passengers  market_share  \\\n",
       "0        114.47       528                     424.56         70.19   \n",
       "\n",
       "   Average_fare_lead  market_share   price  \n",
       "0             111.03         70.19  111.03  "
      ]
     },
     "execution_count": 49,
     "metadata": {},
     "output_type": "execute_result"
    }
   ],
   "source": [
    "usdata.head(1)"
   ]
  },
  {
   "cell_type": "code",
   "execution_count": 50,
   "metadata": {},
   "outputs": [
    {
     "data": {
      "text/plain": [
       "<matplotlib.axes._subplots.AxesSubplot at 0xc2d5ed0>"
      ]
     },
     "execution_count": 50,
     "metadata": {},
     "output_type": "execute_result"
    },
    {
     "data": {
      "image/png": "[encoded data removed]",
      "text/plain": [
       "<Figure size 432x288 with 1 Axes>"
      ]
     },
     "metadata": {
      "needs_background": "light"
     },
     "output_type": "display_data"
    }
   ],
   "source": [
    "sns.boxplot(usdata['Distance'])"
   ]
  },
  {
   "cell_type": "code",
   "execution_count": 51,
   "metadata": {},
   "outputs": [
    {
     "data": {
      "text/plain": [
       "<matplotlib.axes._subplots.AxesSubplot at 0xbd23990>"
      ]
     },
     "execution_count": 51,
     "metadata": {},
     "output_type": "execute_result"
    },
    {
     "data": {
      "image/png": "[encoded data removed]",
      "text/plain": [
       "<Figure size 432x288 with 1 Axes>"
      ]
     },
     "metadata": {
      "needs_background": "light"
     },
     "output_type": "display_data"
    }
   ],
   "source": [
    "sns.boxplot(usdata['price'])"
   ]
  },
  {
   "cell_type": "code",
   "execution_count": 52,
   "metadata": {},
   "outputs": [],
   "source": [
    "usdata_price=usdata[usdata['price']<250]"
   ]
  },
  {
   "cell_type": "code",
   "execution_count": 53,
   "metadata": {},
   "outputs": [
    {
     "data": {
      "text/plain": [
       "<matplotlib.axes._subplots.AxesSubplot at 0xbb59250>"
      ]
     },
     "execution_count": 53,
     "metadata": {},
     "output_type": "execute_result"
    },
    {
     "data": {
      "image/png": "[encoded data removed]",
      "text/plain": [
       "<Figure size 432x288 with 1 Axes>"
      ]
     },
     "metadata": {
      "needs_background": "light"
     },
     "output_type": "display_data"
    }
   ],
   "source": [
    "sns.boxplot(usdata_price['price'])"
   ]
  },
  {
   "cell_type": "code",
   "execution_count": 54,
   "metadata": {},
   "outputs": [
    {
     "data": {
      "text/html": [
       "<div>\n",
       "<style scoped>\n",
       "    .dataframe tbody tr th:only-of-type {\n",
       "        vertical-align: middle;\n",
       "    }\n",
       "\n",
       "    .dataframe tbody tr th {\n",
       "        vertical-align: top;\n",
       "    }\n",
       "\n",
       "    .dataframe thead th {\n",
       "        text-align: right;\n",
       "    }\n",
       "</style>\n",
       "<table border=\"1\" class=\"dataframe\">\n",
       "  <thead>\n",
       "    <tr style=\"text-align: right;\">\n",
       "      <th></th>\n",
       "      <th>Average_Fare</th>\n",
       "      <th>Distance</th>\n",
       "      <th>Average_weekly_passengers</th>\n",
       "      <th>market_share</th>\n",
       "      <th>Average_fare_lead</th>\n",
       "      <th>market_share</th>\n",
       "      <th>price</th>\n",
       "    </tr>\n",
       "  </thead>\n",
       "  <tbody>\n",
       "    <tr>\n",
       "      <td>Average_Fare</td>\n",
       "      <td>1.000000</td>\n",
       "      <td>0.587169</td>\n",
       "      <td>-0.126175</td>\n",
       "      <td>-0.234142</td>\n",
       "      <td>0.981462</td>\n",
       "      <td>-0.458660</td>\n",
       "      <td>0.866410</td>\n",
       "    </tr>\n",
       "    <tr>\n",
       "      <td>Distance</td>\n",
       "      <td>0.587169</td>\n",
       "      <td>1.000000</td>\n",
       "      <td>-0.090131</td>\n",
       "      <td>-0.531406</td>\n",
       "      <td>0.564082</td>\n",
       "      <td>-0.367831</td>\n",
       "      <td>0.583239</td>\n",
       "    </tr>\n",
       "    <tr>\n",
       "      <td>Average_weekly_passengers</td>\n",
       "      <td>-0.126175</td>\n",
       "      <td>-0.090131</td>\n",
       "      <td>1.000000</td>\n",
       "      <td>-0.067605</td>\n",
       "      <td>-0.100946</td>\n",
       "      <td>0.034241</td>\n",
       "      <td>-0.142314</td>\n",
       "    </tr>\n",
       "    <tr>\n",
       "      <td>market_share</td>\n",
       "      <td>-0.234142</td>\n",
       "      <td>-0.531406</td>\n",
       "      <td>-0.067605</td>\n",
       "      <td>1.000000</td>\n",
       "      <td>-0.220801</td>\n",
       "      <td>0.306832</td>\n",
       "      <td>-0.307672</td>\n",
       "    </tr>\n",
       "    <tr>\n",
       "      <td>Average_fare_lead</td>\n",
       "      <td>0.981462</td>\n",
       "      <td>0.564082</td>\n",
       "      <td>-0.100946</td>\n",
       "      <td>-0.220801</td>\n",
       "      <td>1.000000</td>\n",
       "      <td>-0.472838</td>\n",
       "      <td>0.826511</td>\n",
       "    </tr>\n",
       "    <tr>\n",
       "      <td>market_share</td>\n",
       "      <td>-0.458660</td>\n",
       "      <td>-0.367831</td>\n",
       "      <td>0.034241</td>\n",
       "      <td>0.306832</td>\n",
       "      <td>-0.472838</td>\n",
       "      <td>1.000000</td>\n",
       "      <td>-0.240186</td>\n",
       "    </tr>\n",
       "    <tr>\n",
       "      <td>price</td>\n",
       "      <td>0.866410</td>\n",
       "      <td>0.583239</td>\n",
       "      <td>-0.142314</td>\n",
       "      <td>-0.307672</td>\n",
       "      <td>0.826511</td>\n",
       "      <td>-0.240186</td>\n",
       "      <td>1.000000</td>\n",
       "    </tr>\n",
       "  </tbody>\n",
       "</table>\n",
       "</div>"
      ],
      "text/plain": [
       "                           Average_Fare  Distance  Average_weekly_passengers  \\\n",
       "Average_Fare                   1.000000  0.587169                  -0.126175   \n",
       "Distance                       0.587169  1.000000                  -0.090131   \n",
       "Average_weekly_passengers     -0.126175 -0.090131                   1.000000   \n",
       "market_share                  -0.234142 -0.531406                  -0.067605   \n",
       "Average_fare_lead              0.981462  0.564082                  -0.100946   \n",
       "market_share                  -0.458660 -0.367831                   0.034241   \n",
       "price                          0.866410  0.583239                  -0.142314   \n",
       "\n",
       "                           market_share  Average_fare_lead  market_share  \\\n",
       "Average_Fare                  -0.234142           0.981462     -0.458660   \n",
       "Distance                      -0.531406           0.564082     -0.367831   \n",
       "Average_weekly_passengers     -0.067605          -0.100946      0.034241   \n",
       "market_share                   1.000000          -0.220801      0.306832   \n",
       "Average_fare_lead             -0.220801           1.000000     -0.472838   \n",
       "market_share                   0.306832          -0.472838      1.000000   \n",
       "price                         -0.307672           0.826511     -0.240186   \n",
       "\n",
       "                              price  \n",
       "Average_Fare               0.866410  \n",
       "Distance                   0.583239  \n",
       "Average_weekly_passengers -0.142314  \n",
       "market_share              -0.307672  \n",
       "Average_fare_lead          0.826511  \n",
       "market_share              -0.240186  \n",
       "price                      1.000000  "
      ]
     },
     "execution_count": 54,
     "metadata": {},
     "output_type": "execute_result"
    }
   ],
   "source": [
    "usdata.corr()"
   ]
  },
  {
   "cell_type": "code",
   "execution_count": 57,
   "metadata": {},
   "outputs": [
    {
     "data": {
      "text/plain": [
       "<matplotlib.axes._subplots.AxesSubplot at 0xbd63c70>"
      ]
     },
     "execution_count": 57,
     "metadata": {},
     "output_type": "execute_result"
    },
    {
     "data": {
      "image/png": "[encoded data removed]",
      "text/plain": [
       "<Figure size 432x288 with 2 Axes>"
      ]
     },
     "metadata": {
      "needs_background": "light"
     },
     "output_type": "display_data"
    }
   ],
   "source": [
    "sns.heatmap(usdata.corr(),annot=True)"
   ]
  },
  {
   "cell_type": "code",
   "execution_count": 58,
   "metadata": {},
   "outputs": [
    {
     "data": {
      "text/html": [
       "<div>\n",
       "<style scoped>\n",
       "    .dataframe tbody tr th:only-of-type {\n",
       "        vertical-align: middle;\n",
       "    }\n",
       "\n",
       "    .dataframe tbody tr th {\n",
       "        vertical-align: top;\n",
       "    }\n",
       "\n",
       "    .dataframe thead th {\n",
       "        text-align: right;\n",
       "    }\n",
       "</style>\n",
       "<table border=\"1\" class=\"dataframe\">\n",
       "  <thead>\n",
       "    <tr style=\"text-align: right;\">\n",
       "      <th></th>\n",
       "      <th>Average_Fare</th>\n",
       "      <th>Distance</th>\n",
       "      <th>Average_weekly_passengers</th>\n",
       "      <th>market_share</th>\n",
       "      <th>Average_fare_lead</th>\n",
       "      <th>market_share</th>\n",
       "      <th>price</th>\n",
       "    </tr>\n",
       "  </thead>\n",
       "  <tbody>\n",
       "    <tr>\n",
       "      <td>Average_Fare</td>\n",
       "      <td>1.000000</td>\n",
       "      <td>0.587169</td>\n",
       "      <td>-0.126175</td>\n",
       "      <td>-0.234142</td>\n",
       "      <td>0.981462</td>\n",
       "      <td>-0.458660</td>\n",
       "      <td>0.866410</td>\n",
       "    </tr>\n",
       "    <tr>\n",
       "      <td>Distance</td>\n",
       "      <td>0.587169</td>\n",
       "      <td>1.000000</td>\n",
       "      <td>-0.090131</td>\n",
       "      <td>-0.531406</td>\n",
       "      <td>0.564082</td>\n",
       "      <td>-0.367831</td>\n",
       "      <td>0.583239</td>\n",
       "    </tr>\n",
       "    <tr>\n",
       "      <td>Average_weekly_passengers</td>\n",
       "      <td>-0.126175</td>\n",
       "      <td>-0.090131</td>\n",
       "      <td>1.000000</td>\n",
       "      <td>-0.067605</td>\n",
       "      <td>-0.100946</td>\n",
       "      <td>0.034241</td>\n",
       "      <td>-0.142314</td>\n",
       "    </tr>\n",
       "    <tr>\n",
       "      <td>market_share</td>\n",
       "      <td>-0.234142</td>\n",
       "      <td>-0.531406</td>\n",
       "      <td>-0.067605</td>\n",
       "      <td>1.000000</td>\n",
       "      <td>-0.220801</td>\n",
       "      <td>0.306832</td>\n",
       "      <td>-0.307672</td>\n",
       "    </tr>\n",
       "    <tr>\n",
       "      <td>Average_fare_lead</td>\n",
       "      <td>0.981462</td>\n",
       "      <td>0.564082</td>\n",
       "      <td>-0.100946</td>\n",
       "      <td>-0.220801</td>\n",
       "      <td>1.000000</td>\n",
       "      <td>-0.472838</td>\n",
       "      <td>0.826511</td>\n",
       "    </tr>\n",
       "    <tr>\n",
       "      <td>market_share</td>\n",
       "      <td>-0.458660</td>\n",
       "      <td>-0.367831</td>\n",
       "      <td>0.034241</td>\n",
       "      <td>0.306832</td>\n",
       "      <td>-0.472838</td>\n",
       "      <td>1.000000</td>\n",
       "      <td>-0.240186</td>\n",
       "    </tr>\n",
       "    <tr>\n",
       "      <td>price</td>\n",
       "      <td>0.866410</td>\n",
       "      <td>0.583239</td>\n",
       "      <td>-0.142314</td>\n",
       "      <td>-0.307672</td>\n",
       "      <td>0.826511</td>\n",
       "      <td>-0.240186</td>\n",
       "      <td>1.000000</td>\n",
       "    </tr>\n",
       "  </tbody>\n",
       "</table>\n",
       "</div>"
      ],
      "text/plain": [
       "                           Average_Fare  Distance  Average_weekly_passengers  \\\n",
       "Average_Fare                   1.000000  0.587169                  -0.126175   \n",
       "Distance                       0.587169  1.000000                  -0.090131   \n",
       "Average_weekly_passengers     -0.126175 -0.090131                   1.000000   \n",
       "market_share                  -0.234142 -0.531406                  -0.067605   \n",
       "Average_fare_lead              0.981462  0.564082                  -0.100946   \n",
       "market_share                  -0.458660 -0.367831                   0.034241   \n",
       "price                          0.866410  0.583239                  -0.142314   \n",
       "\n",
       "                           market_share  Average_fare_lead  market_share  \\\n",
       "Average_Fare                  -0.234142           0.981462     -0.458660   \n",
       "Distance                      -0.531406           0.564082     -0.367831   \n",
       "Average_weekly_passengers     -0.067605          -0.100946      0.034241   \n",
       "market_share                   1.000000          -0.220801      0.306832   \n",
       "Average_fare_lead             -0.220801           1.000000     -0.472838   \n",
       "market_share                   0.306832          -0.472838      1.000000   \n",
       "price                         -0.307672           0.826511     -0.240186   \n",
       "\n",
       "                              price  \n",
       "Average_Fare               0.866410  \n",
       "Distance                   0.583239  \n",
       "Average_weekly_passengers -0.142314  \n",
       "market_share              -0.307672  \n",
       "Average_fare_lead          0.826511  \n",
       "market_share              -0.240186  \n",
       "price                      1.000000  "
      ]
     },
     "execution_count": 58,
     "metadata": {},
     "output_type": "execute_result"
    }
   ],
   "source": [
    "usdata.corr()"
   ]
  },
  {
   "cell_type": "code",
   "execution_count": 59,
   "metadata": {},
   "outputs": [
    {
     "data": {
      "text/plain": [
       "<matplotlib.axes._subplots.AxesSubplot at 0xc0c0a10>"
      ]
     },
     "execution_count": 59,
     "metadata": {},
     "output_type": "execute_result"
    },
    {
     "data": {
      "image/png": "[encoded data removed]",
      "text/plain": [
       "<Figure size 432x288 with 1 Axes>"
      ]
     },
     "metadata": {
      "needs_background": "light"
     },
     "output_type": "display_data"
    }
   ],
   "source": [
    "sns.scatterplot(x='Distance',y='price',hue='Average_Fare',data=usdata)"
   ]
  },
  {
   "cell_type": "code",
   "execution_count": null,
   "metadata": {},
   "outputs": [],
   "source": []
  },
  {
   "cell_type": "code",
   "execution_count": 67,
   "metadata": {},
   "outputs": [
    {
     "name": "stdout",
     "output_type": "stream",
     "text": [
      "[[ 1.18985918  0.00688498 -0.44101011]]\n",
      "[15.39309664]\n"
     ]
    }
   ],
   "source": [
    "from sklearn.linear_model import LinearRegression\n",
    "from sklearn.model_selection import train_test_split\n",
    "x = usdata[['Average_Fare','Distance','Average_fare_lead']]\n",
    "y = usdata[[\"price\"]]\n",
    "x_train, x_test, y_train, y_test = train_test_split(x, y, test_size=0.2,random_state=1)\n",
    "lr=LinearRegression()\n",
    "lr.fit(x_train,y_train)\n",
    "print(lr.coef_)\n",
    "print(lr.intercept_)"
   ]
  },
  {
   "cell_type": "code",
   "execution_count": 68,
   "metadata": {},
   "outputs": [
    {
     "name": "stdout",
     "output_type": "stream",
     "text": [
      "Testing Accuracy\n",
      "0.7406812008481956\n"
     ]
    }
   ],
   "source": [
    "print(\"Testing Accuracy\")\n",
    "print(lr.score(x_test,y_test))"
   ]
  },
  {
   "cell_type": "code",
   "execution_count": 69,
   "metadata": {},
   "outputs": [
    {
     "name": "stdout",
     "output_type": "stream",
     "text": [
      "Training Accuracy\n",
      "0.7780675731429112\n"
     ]
    }
   ],
   "source": [
    "print(\"Training Accuracy\")\n",
    "print(lr.score(x_train,y_train))"
   ]
  },
  {
   "cell_type": "code",
   "execution_count": null,
   "metadata": {},
   "outputs": [],
   "source": []
  }
 ],
 "metadata": {
  "kernelspec": {
   "display_name": "Python 3",
   "language": "python",
   "name": "python3"
  },
  "language_info": {
   "codemirror_mode": {
    "name": "ipython",
    "version": 3
   },
   "file_extension": ".py",
   "mimetype": "text/x-python",
   "name": "python",
   "nbconvert_exporter": "python",
   "pygments_lexer": "ipython3",
   "version": "3.7.4"
  }
 },
 "nbformat": 4,
 "nbformat_minor": 2
}
